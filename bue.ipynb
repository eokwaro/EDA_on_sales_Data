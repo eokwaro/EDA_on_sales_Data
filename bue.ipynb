{
  "cells": [
    {
      "cell_type": "code",
      "execution_count": null,
      "metadata": {
        "id": "DnSByI_tZxkB"
      },
      "outputs": [],
      "source": [
        "import pandas as pd\n",
        "import numpy as np\n",
        "import matplotlib.pyplot as plt\n",
        "import seaborn as sns\n",
        "import plotly.express as px\n",
        "import plotly.graph_objects as go\n",
        "%matplotlib inline"
      ]
    },
    {
      "cell_type": "code",
      "execution_count": null,
      "metadata": {
        "id": "RQHZcQXtPyGl",
        "outputId": "cce880d8-295f-4636-c8d0-7b83402be90e"
      },
      "outputs": [
        {
          "data": {
            "application/javascript": [
              "\n",
              "        if (window._pyforest_update_imports_cell) { window._pyforest_update_imports_cell('import os'); }\n",
              "    "
            ],
            "text/plain": [
              "<IPython.core.display.Javascript object>"
            ]
          },
          "metadata": {},
          "output_type": "display_data"
        }
      ],
      "source": [
        "os.chdir('C:\\\\Users\\\\user\\\\Documents\\\\Python Test files')"
      ]
    },
    {
      "cell_type": "code",
      "source": [
        "#changes made as on 24th 1828hrs\n",
        "#for trial"
      ],
      "metadata": {
        "id": "gb4weZzAg-uU"
      },
      "execution_count": null,
      "outputs": []
    },
    {
      "cell_type": "code",
      "execution_count": null,
      "metadata": {
        "id": "-47AFXoQZ9KD"
      },
      "outputs": [],
      "source": [
        "bue=pd.read_excel(\"Bue.xlsx\")"
      ]
    },
    {
      "cell_type": "code",
      "execution_count": null,
      "metadata": {
        "colab": {
          "base_uri": "https://localhost:8080/",
          "height": 206
        },
        "id": "qVpJBO3VPyGo",
        "outputId": "64e950ce-3222-49b3-dc93-886b291a0519"
      },
      "outputs": [
        {
          "data": {
            "text/html": [
              "<div><div id=5945319f-4a77-40c1-91ca-69e346d38ad5 style=\"display:none; background-color:#9D6CFF; color:white; width:200px; height:30px; padding-left:5px; border-radius:4px; flex-direction:row; justify-content:space-around; align-items:center;\" onmouseover=\"this.style.backgroundColor='#BA9BF8'\" onmouseout=\"this.style.backgroundColor='#9D6CFF'\" onclick=\"window.commands?.execute('create-mitosheet-from-dataframe-output');\">See Full Dataframe in Mito</div> <script> if (window.commands?.hasCommand('create-mitosheet-from-dataframe-output')) document.getElementById('5945319f-4a77-40c1-91ca-69e346d38ad5').style.display = 'flex' </script> <table border=\"1\" class=\"dataframe\">\n",
              "  <thead>\n",
              "    <tr style=\"text-align: right;\">\n",
              "      <th></th>\n",
              "      <th>OrderDate</th>\n",
              "      <th>productDescription</th>\n",
              "      <th>Orders</th>\n",
              "      <th>Quantity</th>\n",
              "      <th>Amount</th>\n",
              "    </tr>\n",
              "  </thead>\n",
              "  <tbody>\n",
              "    <tr>\n",
              "      <th>0</th>\n",
              "      <td>2017-01-01</td>\n",
              "      <td>NaN</td>\n",
              "      <td>1</td>\n",
              "      <td>1</td>\n",
              "      <td>750.00</td>\n",
              "    </tr>\n",
              "    <tr>\n",
              "      <th>1</th>\n",
              "      <td>2017-04-01</td>\n",
              "      <td>NaN</td>\n",
              "      <td>1</td>\n",
              "      <td>4</td>\n",
              "      <td>5517.24</td>\n",
              "    </tr>\n",
              "    <tr>\n",
              "      <th>2</th>\n",
              "      <td>2017-06-01</td>\n",
              "      <td>NaN</td>\n",
              "      <td>1</td>\n",
              "      <td>2</td>\n",
              "      <td>2758.62</td>\n",
              "    </tr>\n",
              "    <tr>\n",
              "      <th>3</th>\n",
              "      <td>2017-08-01</td>\n",
              "      <td>NaN</td>\n",
              "      <td>1</td>\n",
              "      <td>4</td>\n",
              "      <td>5517.24</td>\n",
              "    </tr>\n",
              "    <tr>\n",
              "      <th>4</th>\n",
              "      <td>2016-10-01</td>\n",
              "      <td>28 BLACK ACAI CLASSIC</td>\n",
              "      <td>1</td>\n",
              "      <td>2</td>\n",
              "      <td>275.86</td>\n",
              "    </tr>\n",
              "  </tbody>\n",
              "</table></div>"
            ],
            "text/plain": [
              "   OrderDate     productDescription  Orders  Quantity  Amount\n",
              "0 2017-01-01                    NaN       1         1  750.00\n",
              "1 2017-04-01                    NaN       1         4 5517.24\n",
              "2 2017-06-01                    NaN       1         2 2758.62\n",
              "3 2017-08-01                    NaN       1         4 5517.24\n",
              "4 2016-10-01  28 BLACK ACAI CLASSIC       1         2  275.86"
            ]
          },
          "execution_count": 93,
          "metadata": {},
          "output_type": "execute_result"
        }
      ],
      "source": [
        "bue.head()"
      ]
    },
    {
      "cell_type": "code",
      "execution_count": null,
      "metadata": {
        "id": "y6OmrdT2PyGp"
      },
      "outputs": [],
      "source": [
        "bue.dropna(inplace=True)"
      ]
    },
    {
      "cell_type": "code",
      "execution_count": null,
      "metadata": {
        "id": "oivjlg2eihk_"
      },
      "outputs": [],
      "source": [
        "import datetime"
      ]
    },
    {
      "cell_type": "code",
      "execution_count": null,
      "metadata": {
        "id": "eYQ4KCsoaSTl"
      },
      "outputs": [],
      "source": [
        "bue[\"orderday\"]=pd.to_datetime(bue.OrderDate).dt.day_name()"
      ]
    },
    {
      "cell_type": "code",
      "execution_count": null,
      "metadata": {
        "id": "ObcvZqg6g8F6"
      },
      "outputs": [],
      "source": [
        "bue[\"ordermonth\"]=pd.to_datetime(bue.OrderDate).dt.month"
      ]
    },
    {
      "cell_type": "code",
      "execution_count": null,
      "metadata": {
        "id": "qMAyUKp4aaf9"
      },
      "outputs": [],
      "source": [
        "bue[\"orderyear\"]=pd.to_datetime(bue.OrderDate).dt.year"
      ]
    },
    {
      "cell_type": "code",
      "execution_count": null,
      "metadata": {
        "colab": {
          "base_uri": "https://localhost:8080/",
          "height": 206
        },
        "id": "O9Z0_xZQbbIk",
        "outputId": "5943daee-50bb-4f00-8764-59bb8600dcd6"
      },
      "outputs": [
        {
          "data": {
            "text/html": [
              "<div><div id=d1fe02af-7a1a-4462-a3c4-ccecc2f76e97 style=\"display:none; background-color:#9D6CFF; color:white; width:200px; height:30px; padding-left:5px; border-radius:4px; flex-direction:row; justify-content:space-around; align-items:center;\" onmouseover=\"this.style.backgroundColor='#BA9BF8'\" onmouseout=\"this.style.backgroundColor='#9D6CFF'\" onclick=\"window.commands?.execute('create-mitosheet-from-dataframe-output');\">See Full Dataframe in Mito</div> <script> if (window.commands?.hasCommand('create-mitosheet-from-dataframe-output')) document.getElementById('d1fe02af-7a1a-4462-a3c4-ccecc2f76e97').style.display = 'flex' </script> <table border=\"1\" class=\"dataframe\">\n",
              "  <thead>\n",
              "    <tr style=\"text-align: right;\">\n",
              "      <th></th>\n",
              "      <th>OrderDate</th>\n",
              "      <th>productDescription</th>\n",
              "      <th>Orders</th>\n",
              "      <th>Quantity</th>\n",
              "      <th>Amount</th>\n",
              "      <th>orderday</th>\n",
              "      <th>ordermonth</th>\n",
              "      <th>orderyear</th>\n",
              "    </tr>\n",
              "  </thead>\n",
              "  <tbody>\n",
              "    <tr>\n",
              "      <th>4</th>\n",
              "      <td>2016-10-01</td>\n",
              "      <td>28 BLACK ACAI CLASSIC</td>\n",
              "      <td>1</td>\n",
              "      <td>2</td>\n",
              "      <td>275.86</td>\n",
              "      <td>Saturday</td>\n",
              "      <td>October</td>\n",
              "      <td>2016</td>\n",
              "    </tr>\n",
              "    <tr>\n",
              "      <th>5</th>\n",
              "      <td>2016-12-01</td>\n",
              "      <td>28 BLACK ACAI CLASSIC</td>\n",
              "      <td>1</td>\n",
              "      <td>20</td>\n",
              "      <td>2758.60</td>\n",
              "      <td>Thursday</td>\n",
              "      <td>December</td>\n",
              "      <td>2016</td>\n",
              "    </tr>\n",
              "    <tr>\n",
              "      <th>6</th>\n",
              "      <td>2017-03-01</td>\n",
              "      <td>28 BLACK ACAI CLASSIC</td>\n",
              "      <td>1</td>\n",
              "      <td>23</td>\n",
              "      <td>3172.39</td>\n",
              "      <td>Wednesday</td>\n",
              "      <td>March</td>\n",
              "      <td>2017</td>\n",
              "    </tr>\n",
              "    <tr>\n",
              "      <th>7</th>\n",
              "      <td>2016-12-01</td>\n",
              "      <td>360 DOUBLE CHOCOLATE VODKA 750ML</td>\n",
              "      <td>1</td>\n",
              "      <td>1</td>\n",
              "      <td>1206.90</td>\n",
              "      <td>Thursday</td>\n",
              "      <td>December</td>\n",
              "      <td>2016</td>\n",
              "    </tr>\n",
              "    <tr>\n",
              "      <th>8</th>\n",
              "      <td>2017-03-01</td>\n",
              "      <td>360 DOUBLE CHOCOLATE VODKA 750ML</td>\n",
              "      <td>1</td>\n",
              "      <td>2</td>\n",
              "      <td>2413.80</td>\n",
              "      <td>Wednesday</td>\n",
              "      <td>March</td>\n",
              "      <td>2017</td>\n",
              "    </tr>\n",
              "    <tr>\n",
              "      <th>9</th>\n",
              "      <td>2017-05-01</td>\n",
              "      <td>360 DOUBLE CHOCOLATE VODKA 750ML</td>\n",
              "      <td>1</td>\n",
              "      <td>1</td>\n",
              "      <td>1206.90</td>\n",
              "      <td>Monday</td>\n",
              "      <td>May</td>\n",
              "      <td>2017</td>\n",
              "    </tr>\n",
              "    <tr>\n",
              "      <th>10</th>\n",
              "      <td>2017-07-01</td>\n",
              "      <td>360 DOUBLE CHOCOLATE VODKA 750ML</td>\n",
              "      <td>1</td>\n",
              "      <td>3</td>\n",
              "      <td>3620.70</td>\n",
              "      <td>Saturday</td>\n",
              "      <td>July</td>\n",
              "      <td>2017</td>\n",
              "    </tr>\n",
              "    <tr>\n",
              "      <th>11</th>\n",
              "      <td>2018-06-03</td>\n",
              "      <td>360 DOUBLE CHOCOLATE VODKA 750ML</td>\n",
              "      <td>1</td>\n",
              "      <td>1</td>\n",
              "      <td>750.00</td>\n",
              "      <td>Sunday</td>\n",
              "      <td>June</td>\n",
              "      <td>2018</td>\n",
              "    </tr>\n",
              "    <tr>\n",
              "      <th>12</th>\n",
              "      <td>2018-08-25</td>\n",
              "      <td>360 HUCKLEBERRY 750ML</td>\n",
              "      <td>4</td>\n",
              "      <td>4</td>\n",
              "      <td>3000.00</td>\n",
              "      <td>Saturday</td>\n",
              "      <td>August</td>\n",
              "      <td>2018</td>\n",
              "    </tr>\n",
              "    <tr>\n",
              "      <th>13</th>\n",
              "      <td>2017-12-07</td>\n",
              "      <td>360 MADACASCAR VANILLA 750ML</td>\n",
              "      <td>1</td>\n",
              "      <td>2</td>\n",
              "      <td>280.00</td>\n",
              "      <td>Thursday</td>\n",
              "      <td>December</td>\n",
              "      <td>2017</td>\n",
              "    </tr>\n",
              "  </tbody>\n",
              "</table></div>"
            ],
            "text/plain": [
              "    OrderDate                productDescription  Orders  Quantity  Amount  \\\n",
              "4  2016-10-01             28 BLACK ACAI CLASSIC       1         2  275.86   \n",
              "5  2016-12-01             28 BLACK ACAI CLASSIC       1        20 2758.60   \n",
              "6  2017-03-01             28 BLACK ACAI CLASSIC       1        23 3172.39   \n",
              "7  2016-12-01  360 DOUBLE CHOCOLATE VODKA 750ML       1         1 1206.90   \n",
              "8  2017-03-01  360 DOUBLE CHOCOLATE VODKA 750ML       1         2 2413.80   \n",
              "9  2017-05-01  360 DOUBLE CHOCOLATE VODKA 750ML       1         1 1206.90   \n",
              "10 2017-07-01  360 DOUBLE CHOCOLATE VODKA 750ML       1         3 3620.70   \n",
              "11 2018-06-03  360 DOUBLE CHOCOLATE VODKA 750ML       1         1  750.00   \n",
              "12 2018-08-25             360 HUCKLEBERRY 750ML       4         4 3000.00   \n",
              "13 2017-12-07      360 MADACASCAR VANILLA 750ML       1         2  280.00   \n",
              "\n",
              "     orderday ordermonth  orderyear  \n",
              "4    Saturday    October       2016  \n",
              "5    Thursday   December       2016  \n",
              "6   Wednesday      March       2017  \n",
              "7    Thursday   December       2016  \n",
              "8   Wednesday      March       2017  \n",
              "9      Monday        May       2017  \n",
              "10   Saturday       July       2017  \n",
              "11     Sunday       June       2018  \n",
              "12   Saturday     August       2018  \n",
              "13   Thursday   December       2017  "
            ]
          },
          "execution_count": 148,
          "metadata": {},
          "output_type": "execute_result"
        }
      ],
      "source": [
        "bue.head(10)"
      ]
    },
    {
      "cell_type": "code",
      "execution_count": null,
      "metadata": {
        "colab": {
          "base_uri": "https://localhost:8080/"
        },
        "id": "vkf-lsHiPyGt",
        "outputId": "7c2e1fa7-aaec-4e5c-c674-2dd2f084c594"
      },
      "outputs": [
        {
          "data": {
            "text/plain": [
              "12"
            ]
          },
          "execution_count": 100,
          "metadata": {},
          "output_type": "execute_result"
        }
      ],
      "source": [
        "bue.ordermonth.nunique()"
      ]
    },
    {
      "cell_type": "code",
      "execution_count": null,
      "metadata": {
        "id": "csCawNN4PyGu"
      },
      "outputs": [],
      "source": [
        "bue[\"ordermonth\"]=bue.apply(lambda x: datetime.datetime.strptime(str(x[\"ordermonth\"]), \"%m\").strftime(\"%B\"),axis=1)\n",
        "#bue['ordermonth'] = pd.to_datetime(bue['ordermonth'], format='%m').dt.month_name().str.slice(stop=3)"
      ]
    },
    {
      "cell_type": "code",
      "execution_count": null,
      "metadata": {
        "colab": {
          "base_uri": "https://localhost:8080/",
          "height": 206
        },
        "id": "eW8MR_daPyGv",
        "outputId": "cfbf0088-d49d-400b-e6bb-f3ff147837b5"
      },
      "outputs": [
        {
          "data": {
            "text/html": [
              "<div><div id=d29a0faa-fa9c-4278-829a-c260723a6150 style=\"display:none; background-color:#9D6CFF; color:white; width:200px; height:30px; padding-left:5px; border-radius:4px; flex-direction:row; justify-content:space-around; align-items:center;\" onmouseover=\"this.style.backgroundColor='#BA9BF8'\" onmouseout=\"this.style.backgroundColor='#9D6CFF'\" onclick=\"window.commands?.execute('create-mitosheet-from-dataframe-output');\">See Full Dataframe in Mito</div> <script> if (window.commands?.hasCommand('create-mitosheet-from-dataframe-output')) document.getElementById('d29a0faa-fa9c-4278-829a-c260723a6150').style.display = 'flex' </script> <table border=\"1\" class=\"dataframe\">\n",
              "  <thead>\n",
              "    <tr style=\"text-align: right;\">\n",
              "      <th></th>\n",
              "      <th>OrderDate</th>\n",
              "      <th>productDescription</th>\n",
              "      <th>Orders</th>\n",
              "      <th>Quantity</th>\n",
              "      <th>Amount</th>\n",
              "      <th>orderday</th>\n",
              "      <th>ordermonth</th>\n",
              "      <th>orderyear</th>\n",
              "    </tr>\n",
              "  </thead>\n",
              "  <tbody>\n",
              "    <tr>\n",
              "      <th>4</th>\n",
              "      <td>2016-10-01</td>\n",
              "      <td>28 BLACK ACAI CLASSIC</td>\n",
              "      <td>1</td>\n",
              "      <td>2</td>\n",
              "      <td>275.86</td>\n",
              "      <td>Saturday</td>\n",
              "      <td>October</td>\n",
              "      <td>2016</td>\n",
              "    </tr>\n",
              "    <tr>\n",
              "      <th>5</th>\n",
              "      <td>2016-12-01</td>\n",
              "      <td>28 BLACK ACAI CLASSIC</td>\n",
              "      <td>1</td>\n",
              "      <td>20</td>\n",
              "      <td>2758.60</td>\n",
              "      <td>Thursday</td>\n",
              "      <td>December</td>\n",
              "      <td>2016</td>\n",
              "    </tr>\n",
              "    <tr>\n",
              "      <th>6</th>\n",
              "      <td>2017-03-01</td>\n",
              "      <td>28 BLACK ACAI CLASSIC</td>\n",
              "      <td>1</td>\n",
              "      <td>23</td>\n",
              "      <td>3172.39</td>\n",
              "      <td>Wednesday</td>\n",
              "      <td>March</td>\n",
              "      <td>2017</td>\n",
              "    </tr>\n",
              "    <tr>\n",
              "      <th>7</th>\n",
              "      <td>2016-12-01</td>\n",
              "      <td>360 DOUBLE CHOCOLATE VODKA 750ML</td>\n",
              "      <td>1</td>\n",
              "      <td>1</td>\n",
              "      <td>1206.90</td>\n",
              "      <td>Thursday</td>\n",
              "      <td>December</td>\n",
              "      <td>2016</td>\n",
              "    </tr>\n",
              "    <tr>\n",
              "      <th>8</th>\n",
              "      <td>2017-03-01</td>\n",
              "      <td>360 DOUBLE CHOCOLATE VODKA 750ML</td>\n",
              "      <td>1</td>\n",
              "      <td>2</td>\n",
              "      <td>2413.80</td>\n",
              "      <td>Wednesday</td>\n",
              "      <td>March</td>\n",
              "      <td>2017</td>\n",
              "    </tr>\n",
              "  </tbody>\n",
              "</table></div>"
            ],
            "text/plain": [
              "   OrderDate                productDescription  Orders  Quantity  Amount  \\\n",
              "4 2016-10-01             28 BLACK ACAI CLASSIC       1         2  275.86   \n",
              "5 2016-12-01             28 BLACK ACAI CLASSIC       1        20 2758.60   \n",
              "6 2017-03-01             28 BLACK ACAI CLASSIC       1        23 3172.39   \n",
              "7 2016-12-01  360 DOUBLE CHOCOLATE VODKA 750ML       1         1 1206.90   \n",
              "8 2017-03-01  360 DOUBLE CHOCOLATE VODKA 750ML       1         2 2413.80   \n",
              "\n",
              "    orderday ordermonth  orderyear  \n",
              "4   Saturday    October       2016  \n",
              "5   Thursday   December       2016  \n",
              "6  Wednesday      March       2017  \n",
              "7   Thursday   December       2016  \n",
              "8  Wednesday      March       2017  "
            ]
          },
          "execution_count": 155,
          "metadata": {},
          "output_type": "execute_result"
        }
      ],
      "source": [
        "bue.head()"
      ]
    },
    {
      "cell_type": "code",
      "execution_count": null,
      "metadata": {
        "id": "ZF9BdEgQcGFz"
      },
      "outputs": [],
      "source": [
        "top_20_products=bue.groupby([\"productDescription\"]).sum().sort_values(\"Amount\",ascending=False)[:20].reset_index()\n",
        "top_20_products.drop(['orderyear'],axis=1,inplace=True)"
      ]
    },
    {
      "cell_type": "code",
      "execution_count": null,
      "metadata": {
        "id": "8innVkBrPyGx"
      },
      "outputs": [],
      "source": [
        "pd.set_option('display.max_rows',20)"
      ]
    },
    {
      "cell_type": "code",
      "execution_count": null,
      "metadata": {
        "id": "vNuyJrFKPyGy"
      },
      "outputs": [],
      "source": [
        "#bue.to_csv('C:\\\\Users\\\\user\\\\Documents\\\\Python Test files\\\\buesanitized.csv')"
      ]
    },
    {
      "cell_type": "code",
      "execution_count": null,
      "metadata": {
        "colab": {
          "base_uri": "https://localhost:8080/",
          "height": 676
        },
        "id": "iRT8m8lVcu_n",
        "outputId": "bb8dddaf-7ccf-4351-945b-e05a4b66e45d"
      },
      "outputs": [
        {
          "data": {
            "text/html": [
              "<div><div id=0804738a-7b83-4f2c-9b1d-7b03849a56e3 style=\"display:none; background-color:#9D6CFF; color:white; width:200px; height:30px; padding-left:5px; border-radius:4px; flex-direction:row; justify-content:space-around; align-items:center;\" onmouseover=\"this.style.backgroundColor='#BA9BF8'\" onmouseout=\"this.style.backgroundColor='#9D6CFF'\" onclick=\"window.commands?.execute('create-mitosheet-from-dataframe-output');\">See Full Dataframe in Mito</div> <script> if (window.commands?.hasCommand('create-mitosheet-from-dataframe-output')) document.getElementById('0804738a-7b83-4f2c-9b1d-7b03849a56e3').style.display = 'flex' </script> <table border=\"1\" class=\"dataframe\">\n",
              "  <thead>\n",
              "    <tr style=\"text-align: right;\">\n",
              "      <th></th>\n",
              "      <th>productDescription</th>\n",
              "      <th>Orders</th>\n",
              "      <th>Quantity</th>\n",
              "      <th>Amount</th>\n",
              "      <th>orderday</th>\n",
              "    </tr>\n",
              "  </thead>\n",
              "  <tbody>\n",
              "    <tr>\n",
              "      <th>0</th>\n",
              "      <td>TUSKER LAGER BOTTLE 500ML</td>\n",
              "      <td>15277</td>\n",
              "      <td>207386</td>\n",
              "      <td>30257553.00</td>\n",
              "      <td>23814</td>\n",
              "    </tr>\n",
              "    <tr>\n",
              "      <th>1</th>\n",
              "      <td>GUINNESS BOTTLE 500ML</td>\n",
              "      <td>15729</td>\n",
              "      <td>171820</td>\n",
              "      <td>27967095.22</td>\n",
              "      <td>26032</td>\n",
              "    </tr>\n",
              "    <tr>\n",
              "      <th>2</th>\n",
              "      <td>BALOZI 500ML</td>\n",
              "      <td>12048</td>\n",
              "      <td>188784</td>\n",
              "      <td>26179250.96</td>\n",
              "      <td>21818</td>\n",
              "    </tr>\n",
              "    <tr>\n",
              "      <th>3</th>\n",
              "      <td>WHITE CAP LAGER BTL 500ML</td>\n",
              "      <td>10458</td>\n",
              "      <td>163659</td>\n",
              "      <td>25357731.00</td>\n",
              "      <td>23056</td>\n",
              "    </tr>\n",
              "    <tr>\n",
              "      <th>4</th>\n",
              "      <td>TUSKER LAGER CAN 500ML</td>\n",
              "      <td>37211</td>\n",
              "      <td>147674</td>\n",
              "      <td>24297321.49</td>\n",
              "      <td>26995</td>\n",
              "    </tr>\n",
              "    <tr>\n",
              "      <th>...</th>\n",
              "      <td>...</td>\n",
              "      <td>...</td>\n",
              "      <td>...</td>\n",
              "      <td>...</td>\n",
              "      <td>...</td>\n",
              "    </tr>\n",
              "    <tr>\n",
              "      <th>15</th>\n",
              "      <td>TUSKER CIDER CAN 500ML</td>\n",
              "      <td>20574</td>\n",
              "      <td>51674</td>\n",
              "      <td>9143546.22</td>\n",
              "      <td>25513</td>\n",
              "    </tr>\n",
              "    <tr>\n",
              "      <th>16</th>\n",
              "      <td>HEINEKEN LAGER BOTTLE 330ML</td>\n",
              "      <td>5779</td>\n",
              "      <td>49659</td>\n",
              "      <td>9050752.00</td>\n",
              "      <td>21324</td>\n",
              "    </tr>\n",
              "    <tr>\n",
              "      <th>17</th>\n",
              "      <td>JW BLACK 12YRS 750ML</td>\n",
              "      <td>1636</td>\n",
              "      <td>2590</td>\n",
              "      <td>8898336.42</td>\n",
              "      <td>13477</td>\n",
              "    </tr>\n",
              "    <tr>\n",
              "      <th>18</th>\n",
              "      <td>HEINEKEN LAGER CAN 500ML</td>\n",
              "      <td>10593</td>\n",
              "      <td>37284</td>\n",
              "      <td>8104979.00</td>\n",
              "      <td>19985</td>\n",
              "    </tr>\n",
              "    <tr>\n",
              "      <th>19</th>\n",
              "      <td>SMIRNOFF RED 1LT</td>\n",
              "      <td>5732</td>\n",
              "      <td>5943</td>\n",
              "      <td>8099770.00</td>\n",
              "      <td>22509</td>\n",
              "    </tr>\n",
              "  </tbody>\n",
              "</table></div>"
            ],
            "text/plain": [
              "             productDescription  Orders  Quantity      Amount  orderday\n",
              "0     TUSKER LAGER BOTTLE 500ML   15277    207386 30257553.00     23814\n",
              "1         GUINNESS BOTTLE 500ML   15729    171820 27967095.22     26032\n",
              "2                  BALOZI 500ML   12048    188784 26179250.96     21818\n",
              "3     WHITE CAP LAGER BTL 500ML   10458    163659 25357731.00     23056\n",
              "4        TUSKER LAGER CAN 500ML   37211    147674 24297321.49     26995\n",
              "5              GILBEYâ€™S 750ML   16005     18895 21855089.00     23700\n",
              "6            GUINNESS CAN 500ML   42218     93994 17623611.57     27519\n",
              "7           WHITE CAP CAN 500ML   31150     82042 15325862.00     24175\n",
              "8              JACK DANIELS 1LT    3274      3756 14676440.00     18084\n",
              "9     DUNHILL DOUBLE SWITCH (2)   17884     58914 14302989.87     24430\n",
              "10   SMIRNOFF GUARANA CAN 330ML   26913     88125 12752881.08     27287\n",
              "11               DUNHILL SWITCH   17317     53647 12330829.99     25487\n",
              "12               EMBASSY LIGHTS   23007     50621 10290370.14     25982\n",
              "13  TUSKER LAGER 6 PACKâ€™OFFER    5968      9455  9403427.00     11122\n",
              "14                    SPORTSMAN   29346     54003  9179301.80     26905\n",
              "15       TUSKER CIDER CAN 500ML   20574     51674  9143546.22     25513\n",
              "16  HEINEKEN LAGER BOTTLE 330ML    5779     49659  9050752.00     21324\n",
              "17         JW BLACK 12YRS 750ML    1636      2590  8898336.42     13477\n",
              "18     HEINEKEN LAGER CAN 500ML   10593     37284  8104979.00     19985\n",
              "19             SMIRNOFF RED 1LT    5732      5943  8099770.00     22509"
            ]
          },
          "execution_count": 106,
          "metadata": {},
          "output_type": "execute_result"
        }
      ],
      "source": [
        "top_20_products"
      ]
    },
    {
      "cell_type": "code",
      "execution_count": null,
      "metadata": {
        "id": "f2ej5L7-PyGz"
      },
      "outputs": [],
      "source": [
        "bottom_20_products=bue.groupby([\"productDescription\"]).sum().sort_values(\"Amount\",ascending=True)[:20].reset_index()\n",
        "bottom_20_products.drop(['orderyear'],axis=1,inplace=True)"
      ]
    },
    {
      "cell_type": "code",
      "execution_count": null,
      "metadata": {
        "colab": {
          "base_uri": "https://localhost:8080/",
          "height": 676
        },
        "id": "R8ntjIKNPyG0",
        "outputId": "d389b7db-ebb7-4f9f-eafd-9102838be8c7"
      },
      "outputs": [
        {
          "data": {
            "text/html": [
              "<div><div id=06ce86a8-7e4f-49cd-ba68-36cdc49612d6 style=\"display:none; background-color:#9D6CFF; color:white; width:200px; height:30px; padding-left:5px; border-radius:4px; flex-direction:row; justify-content:space-around; align-items:center;\" onmouseover=\"this.style.backgroundColor='#BA9BF8'\" onmouseout=\"this.style.backgroundColor='#9D6CFF'\" onclick=\"window.commands?.execute('create-mitosheet-from-dataframe-output');\">See Full Dataframe in Mito</div> <script> if (window.commands?.hasCommand('create-mitosheet-from-dataframe-output')) document.getElementById('06ce86a8-7e4f-49cd-ba68-36cdc49612d6').style.display = 'flex' </script> <table border=\"1\" class=\"dataframe\">\n",
              "  <thead>\n",
              "    <tr style=\"text-align: right;\">\n",
              "      <th></th>\n",
              "      <th>productDescription</th>\n",
              "      <th>Orders</th>\n",
              "      <th>Quantity</th>\n",
              "      <th>Amount</th>\n",
              "      <th>orderday</th>\n",
              "    </tr>\n",
              "  </thead>\n",
              "  <tbody>\n",
              "    <tr>\n",
              "      <th>0</th>\n",
              "      <td>GLEN LIVET 12YRS 1LTR</td>\n",
              "      <td>8</td>\n",
              "      <td>-5</td>\n",
              "      <td>-28675.86</td>\n",
              "      <td>136</td>\n",
              "    </tr>\n",
              "    <tr>\n",
              "      <th>1</th>\n",
              "      <td>EMPTY BOTTLE300ML/500ML</td>\n",
              "      <td>8</td>\n",
              "      <td>-171</td>\n",
              "      <td>-3685.36</td>\n",
              "      <td>8</td>\n",
              "    </tr>\n",
              "    <tr>\n",
              "      <th>2</th>\n",
              "      <td>OBIKWA PINOTAGE 750ML</td>\n",
              "      <td>2</td>\n",
              "      <td>-3</td>\n",
              "      <td>-1990.34</td>\n",
              "      <td>32</td>\n",
              "    </tr>\n",
              "    <tr>\n",
              "      <th>3</th>\n",
              "      <td>OFFICERS CHOICE PRESTIGE WHISKY</td>\n",
              "      <td>2</td>\n",
              "      <td>-1</td>\n",
              "      <td>-141.23</td>\n",
              "      <td>2</td>\n",
              "    </tr>\n",
              "    <tr>\n",
              "      <th>4</th>\n",
              "      <td>gibson test</td>\n",
              "      <td>2</td>\n",
              "      <td>2</td>\n",
              "      <td>20.00</td>\n",
              "      <td>16</td>\n",
              "    </tr>\n",
              "    <tr>\n",
              "      <th>...</th>\n",
              "      <td>...</td>\n",
              "      <td>...</td>\n",
              "      <td>...</td>\n",
              "      <td>...</td>\n",
              "      <td>...</td>\n",
              "    </tr>\n",
              "    <tr>\n",
              "      <th>15</th>\n",
              "      <td>HOP HOUSE LAGER 500ML</td>\n",
              "      <td>1</td>\n",
              "      <td>1</td>\n",
              "      <td>220.00</td>\n",
              "      <td>24</td>\n",
              "    </tr>\n",
              "    <tr>\n",
              "      <th>16</th>\n",
              "      <td>RADICO GOLD 350ML</td>\n",
              "      <td>1</td>\n",
              "      <td>1</td>\n",
              "      <td>301.72</td>\n",
              "      <td>1</td>\n",
              "    </tr>\n",
              "    <tr>\n",
              "      <th>17</th>\n",
              "      <td>GIN CAPTAIN 250ML</td>\n",
              "      <td>2</td>\n",
              "      <td>2</td>\n",
              "      <td>310.34</td>\n",
              "      <td>2</td>\n",
              "    </tr>\n",
              "    <tr>\n",
              "      <th>18</th>\n",
              "      <td>BAVARIA BLACK 500ML</td>\n",
              "      <td>1</td>\n",
              "      <td>2</td>\n",
              "      <td>360.00</td>\n",
              "      <td>25</td>\n",
              "    </tr>\n",
              "    <tr>\n",
              "      <th>19</th>\n",
              "      <td>ALVARO 6PACK</td>\n",
              "      <td>1</td>\n",
              "      <td>1</td>\n",
              "      <td>405.00</td>\n",
              "      <td>15</td>\n",
              "    </tr>\n",
              "  </tbody>\n",
              "</table></div>"
            ],
            "text/plain": [
              "                 productDescription  Orders  Quantity    Amount  orderday\n",
              "0             GLEN LIVET 12YRS 1LTR       8        -5 -28675.86       136\n",
              "1           EMPTY BOTTLE300ML/500ML       8      -171  -3685.36         8\n",
              "2             OBIKWA PINOTAGE 750ML       2        -3  -1990.34        32\n",
              "3   OFFICERS CHOICE PRESTIGE WHISKY       2        -1   -141.23         2\n",
              "4                       gibson test       2         2     20.00        16\n",
              "5                      Mountain Dew      13        33     65.80        69\n",
              "6     KREST GINGER ALE BOTTLE 300ML       1         3     90.00         2\n",
              "7               FANTA PINEAPPLE 2 L       1         1    146.55         1\n",
              "8                   COKE SODA 300ML       3         6    155.16         3\n",
              "9                 COKE ENERGY 300ML       1         2    160.00        27\n",
              "10                    DUNHILL KINGS       1         1    172.41         1\n",
              "11                  DUNHILL RELEASE       1         1    189.66         1\n",
              "12        FANTA BLACK CURRENT 300ML       2         8    206.88         2\n",
              "13                    DUREX CLASSIC       1         1    215.52         1\n",
              "14          FLIRT GREEN APPLE 250ML       1         1    215.52         1\n",
              "15            HOP HOUSE LAGER 500ML       1         1    220.00        24\n",
              "16                RADICO GOLD 350ML       1         1    301.72         1\n",
              "17                GIN CAPTAIN 250ML       2         2    310.34         2\n",
              "18              BAVARIA BLACK 500ML       1         2    360.00        25\n",
              "19                     ALVARO 6PACK       1         1    405.00        15"
            ]
          },
          "execution_count": 108,
          "metadata": {},
          "output_type": "execute_result"
        }
      ],
      "source": [
        "bottom_20_products"
      ]
    },
    {
      "cell_type": "code",
      "execution_count": null,
      "metadata": {
        "id": "Ypg8Kj-vbESA"
      },
      "outputs": [],
      "source": [
        "#bue.Amount=bue.Amount.apply(lambda x:abs(x)) to convert all the values in the Amount column to their absolute values\n",
        "top_product_per_year=bue.groupby(['orderyear','Amount','productDescription']).size().groupby(level=0).tail(1).reset_index()\n",
        "top_product_per_year.drop(0,inplace=True,axis=1)\n",
        "\n",
        "#top_product_per_year=[]\n",
        "#for i in bue.orderyear.unique():\n",
        "  #product=bue[bue.orderyear==i]\n",
        "  #product=product.groupby(['orderyear','Amount','productDescription']).size().reset_index().tail(1)\n",
        "  #top_product_per_year.append(product)\n",
        "\n",
        "#top_product_per_year=pd.concat(top_product_per_year)\n",
        "#top_product_per_year=top_product_per_year.reset_index()\n",
        "#top_product_per_year.drop(['index',0],inplace=True,axis=1)"
      ]
    },
    {
      "cell_type": "code",
      "execution_count": null,
      "metadata": {
        "colab": {
          "base_uri": "https://localhost:8080/",
          "height": 237
        },
        "id": "ln9dDQwdbE26",
        "outputId": "906a117c-7150-4b39-86a1-f070075cd223"
      },
      "outputs": [
        {
          "data": {
            "text/html": [
              "<div><div id=990f40d9-4c78-4d9b-869d-76d721254ecb style=\"display:none; background-color:#9D6CFF; color:white; width:200px; height:30px; padding-left:5px; border-radius:4px; flex-direction:row; justify-content:space-around; align-items:center;\" onmouseover=\"this.style.backgroundColor='#BA9BF8'\" onmouseout=\"this.style.backgroundColor='#9D6CFF'\" onclick=\"window.commands?.execute('create-mitosheet-from-dataframe-output');\">See Full Dataframe in Mito</div> <script> if (window.commands?.hasCommand('create-mitosheet-from-dataframe-output')) document.getElementById('990f40d9-4c78-4d9b-869d-76d721254ecb').style.display = 'flex' </script> <table border=\"1\" class=\"dataframe\">\n",
              "  <thead>\n",
              "    <tr style=\"text-align: right;\">\n",
              "      <th></th>\n",
              "      <th>orderyear</th>\n",
              "      <th>Amount</th>\n",
              "      <th>productDescription</th>\n",
              "    </tr>\n",
              "  </thead>\n",
              "  <tbody>\n",
              "    <tr>\n",
              "      <th>0</th>\n",
              "      <td>2016</td>\n",
              "      <td>730109.92</td>\n",
              "      <td>TUSKER LAGER CAN 500ML</td>\n",
              "    </tr>\n",
              "    <tr>\n",
              "      <th>1</th>\n",
              "      <td>2017</td>\n",
              "      <td>590074.71</td>\n",
              "      <td>TUSKER LAGER CAN 500ML</td>\n",
              "    </tr>\n",
              "    <tr>\n",
              "      <th>2</th>\n",
              "      <td>2018</td>\n",
              "      <td>90000.00</td>\n",
              "      <td>JW GOLD RESERVE BULLION 750ML</td>\n",
              "    </tr>\n",
              "    <tr>\n",
              "      <th>3</th>\n",
              "      <td>2019</td>\n",
              "      <td>209180.00</td>\n",
              "      <td>BALOZI 500ML</td>\n",
              "    </tr>\n",
              "    <tr>\n",
              "      <th>4</th>\n",
              "      <td>2020</td>\n",
              "      <td>185580.00</td>\n",
              "      <td>BALOZI 500ML</td>\n",
              "    </tr>\n",
              "    <tr>\n",
              "      <th>5</th>\n",
              "      <td>2021</td>\n",
              "      <td>203115.00</td>\n",
              "      <td>GUINNESS BOTTLE 500ML</td>\n",
              "    </tr>\n",
              "  </tbody>\n",
              "</table></div>"
            ],
            "text/plain": [
              "   orderyear    Amount             productDescription\n",
              "0       2016 730109.92         TUSKER LAGER CAN 500ML\n",
              "1       2017 590074.71         TUSKER LAGER CAN 500ML\n",
              "2       2018  90000.00  JW GOLD RESERVE BULLION 750ML\n",
              "3       2019 209180.00                   BALOZI 500ML\n",
              "4       2020 185580.00                   BALOZI 500ML\n",
              "5       2021 203115.00          GUINNESS BOTTLE 500ML"
            ]
          },
          "execution_count": 110,
          "metadata": {},
          "output_type": "execute_result"
        }
      ],
      "source": [
        "top_product_per_year"
      ]
    },
    {
      "cell_type": "code",
      "execution_count": null,
      "metadata": {
        "id": "tPDAAbYWg8GH",
        "outputId": "c9cb0122-04f4-43f2-89e2-c63c75724e38"
      },
      "outputs": [
        {
          "data": {
            "text/plain": [
              "Text(0.5, 1.0, 'Top 20 products')"
            ]
          },
          "execution_count": 161,
          "metadata": {},
          "output_type": "execute_result"
        },
        {
          "data": {
            "image/png": "[encoded data removed]",
            "text/plain": [
              "<Figure size 1080x360 with 1 Axes>"
            ]
          },
          "metadata": {},
          "output_type": "display_data"
        }
      ],
      "source": [
        "plt.figure(figsize=(15,5))\n",
        "sns.lineplot(data=top_20_products,x='productDescription',y='Amount')\n",
        "sns.set_style('darkgrid')\n",
        "plt.xlabel('productDescription',size=15)\n",
        "plt.ylabel('Amount',size=15)\n",
        "plt.title('Top 20 products',size=15)"
      ]
    },
    {
      "cell_type": "code",
      "execution_count": null,
      "metadata": {
        "id": "ZCsDXAQ2bhYf"
      },
      "outputs": [],
      "source": [
        "bottom_product_per_year=bue.groupby(['orderyear','Amount','productDescription']).size().groupby(level=0).head(1).reset_index()\n",
        "bottom_product_per_year.drop(0,inplace=True,axis=1)"
      ]
    },
    {
      "cell_type": "code",
      "execution_count": null,
      "metadata": {
        "colab": {
          "base_uri": "https://localhost:8080/",
          "height": 237
        },
        "id": "ioStWzupbiUm",
        "outputId": "fd82bb44-a6aa-467d-9690-aba0aa149e37"
      },
      "outputs": [
        {
          "data": {
            "text/html": [
              "<div><div id=40bc5d00-0fb6-46ed-9b95-8a02a174e48c style=\"display:none; background-color:#9D6CFF; color:white; width:200px; height:30px; padding-left:5px; border-radius:4px; flex-direction:row; justify-content:space-around; align-items:center;\" onmouseover=\"this.style.backgroundColor='#BA9BF8'\" onmouseout=\"this.style.backgroundColor='#9D6CFF'\" onclick=\"window.commands?.execute('create-mitosheet-from-dataframe-output');\">See Full Dataframe in Mito</div> <script> if (window.commands?.hasCommand('create-mitosheet-from-dataframe-output')) document.getElementById('40bc5d00-0fb6-46ed-9b95-8a02a174e48c').style.display = 'flex' </script> <table border=\"1\" class=\"dataframe\">\n",
              "  <thead>\n",
              "    <tr style=\"text-align: right;\">\n",
              "      <th></th>\n",
              "      <th>orderyear</th>\n",
              "      <th>Amount</th>\n",
              "      <th>productDescription</th>\n",
              "    </tr>\n",
              "  </thead>\n",
              "  <tbody>\n",
              "    <tr>\n",
              "      <th>0</th>\n",
              "      <td>2016</td>\n",
              "      <td>-10862.07</td>\n",
              "      <td>BLACK TOWER PINOT NOIR 750ML</td>\n",
              "    </tr>\n",
              "    <tr>\n",
              "      <th>1</th>\n",
              "      <td>2017</td>\n",
              "      <td>-68275.86</td>\n",
              "      <td>GLEN LIVET 12YRS 1LTR</td>\n",
              "    </tr>\n",
              "    <tr>\n",
              "      <th>2</th>\n",
              "      <td>2018</td>\n",
              "      <td>0.00</td>\n",
              "      <td>FANTA BLACKCURRANT PET 500ML</td>\n",
              "    </tr>\n",
              "    <tr>\n",
              "      <th>3</th>\n",
              "      <td>2019</td>\n",
              "      <td>0.00</td>\n",
              "      <td>4 COUSINS SWEET WHITE 750ML</td>\n",
              "    </tr>\n",
              "    <tr>\n",
              "      <th>4</th>\n",
              "      <td>2020</td>\n",
              "      <td>0.00</td>\n",
              "      <td>4TH STREET SWEET RED 5LT</td>\n",
              "    </tr>\n",
              "    <tr>\n",
              "      <th>5</th>\n",
              "      <td>2021</td>\n",
              "      <td>0.00</td>\n",
              "      <td>JW WHITE WALKER 750ML</td>\n",
              "    </tr>\n",
              "  </tbody>\n",
              "</table></div>"
            ],
            "text/plain": [
              "   orderyear    Amount            productDescription\n",
              "0       2016 -10862.07  BLACK TOWER PINOT NOIR 750ML\n",
              "1       2017 -68275.86         GLEN LIVET 12YRS 1LTR\n",
              "2       2018      0.00  FANTA BLACKCURRANT PET 500ML\n",
              "3       2019      0.00   4 COUSINS SWEET WHITE 750ML\n",
              "4       2020      0.00      4TH STREET SWEET RED 5LT\n",
              "5       2021      0.00         JW WHITE WALKER 750ML"
            ]
          },
          "execution_count": 112,
          "metadata": {},
          "output_type": "execute_result"
        }
      ],
      "source": [
        "bottom_product_per_year"
      ]
    },
    {
      "cell_type": "code",
      "execution_count": null,
      "metadata": {
        "id": "rdQDNEHqPyG1"
      },
      "outputs": [],
      "source": [
        "bue[\"ordermonth\"] = bue[\"ordermonth\"].astype('category').cat.reorder_categories(['January', 'February', 'March', 'April', 'May', 'June', 'July',\n",
        "       'August', 'September', 'October', 'November', 'December'])"
      ]
    },
    {
      "cell_type": "code",
      "execution_count": null,
      "metadata": {
        "id": "0JWtmM54cxtR"
      },
      "outputs": [],
      "source": [
        "yearlysales=bue.pivot_table(index=\"orderyear\",columns='ordermonth',values=\"Amount\",aggfunc='sum',\n",
        "                            margins = True, margins_name='Total')"
      ]
    },
    {
      "cell_type": "code",
      "execution_count": null,
      "metadata": {
        "id": "l0Vi08Z6emdT"
      },
      "outputs": [],
      "source": [
        "pd.set_option('display.float_format', lambda x: '%.2f' % x) #converts float values from scitific notation to decimal with %.2f indicating 2 decimal places\n"
      ]
    },
    {
      "cell_type": "code",
      "execution_count": null,
      "metadata": {
        "colab": {
          "base_uri": "https://localhost:8080/",
          "height": 364
        },
        "id": "4FcSPQURPyG3",
        "outputId": "30bb991a-ad12-4686-b158-66c8d6f27780"
      },
      "outputs": [
        {
          "data": {
            "text/html": [
              "<div><div id=bfb0e5e9-1288-4ef6-b028-d1c0d7b031c0 style=\"display:none; background-color:#9D6CFF; color:white; width:200px; height:30px; padding-left:5px; border-radius:4px; flex-direction:row; justify-content:space-around; align-items:center;\" onmouseover=\"this.style.backgroundColor='#BA9BF8'\" onmouseout=\"this.style.backgroundColor='#9D6CFF'\" onclick=\"window.commands?.execute('create-mitosheet-from-dataframe-output');\">See Full Dataframe in Mito</div> <script> if (window.commands?.hasCommand('create-mitosheet-from-dataframe-output')) document.getElementById('bfb0e5e9-1288-4ef6-b028-d1c0d7b031c0').style.display = 'flex' </script> <table border=\"1\" class=\"dataframe\">\n",
              "  <thead>\n",
              "    <tr style=\"text-align: right;\">\n",
              "      <th>ordermonth</th>\n",
              "      <th>January</th>\n",
              "      <th>February</th>\n",
              "      <th>March</th>\n",
              "      <th>April</th>\n",
              "      <th>May</th>\n",
              "      <th>June</th>\n",
              "      <th>July</th>\n",
              "      <th>August</th>\n",
              "      <th>September</th>\n",
              "      <th>October</th>\n",
              "      <th>November</th>\n",
              "      <th>December</th>\n",
              "      <th>Total</th>\n",
              "    </tr>\n",
              "    <tr>\n",
              "      <th>orderyear</th>\n",
              "      <th></th>\n",
              "      <th></th>\n",
              "      <th></th>\n",
              "      <th></th>\n",
              "      <th></th>\n",
              "      <th></th>\n",
              "      <th></th>\n",
              "      <th></th>\n",
              "      <th></th>\n",
              "      <th></th>\n",
              "      <th></th>\n",
              "      <th></th>\n",
              "      <th></th>\n",
              "    </tr>\n",
              "  </thead>\n",
              "  <tbody>\n",
              "    <tr>\n",
              "      <th>2016</th>\n",
              "      <td>0.00</td>\n",
              "      <td>0.00</td>\n",
              "      <td>0.00</td>\n",
              "      <td>0.00</td>\n",
              "      <td>0.00</td>\n",
              "      <td>0.00</td>\n",
              "      <td>0.00</td>\n",
              "      <td>0.00</td>\n",
              "      <td>0.00</td>\n",
              "      <td>4596984.20</td>\n",
              "      <td>8337309.21</td>\n",
              "      <td>15361797.15</td>\n",
              "      <td>28296090.56</td>\n",
              "    </tr>\n",
              "    <tr>\n",
              "      <th>2017</th>\n",
              "      <td>10127097.21</td>\n",
              "      <td>9585478.48</td>\n",
              "      <td>9926599.33</td>\n",
              "      <td>11927700.50</td>\n",
              "      <td>10282648.55</td>\n",
              "      <td>11354827.89</td>\n",
              "      <td>11369500.87</td>\n",
              "      <td>10875261.68</td>\n",
              "      <td>16077321.00</td>\n",
              "      <td>18005590.00</td>\n",
              "      <td>18757088.00</td>\n",
              "      <td>27461174.00</td>\n",
              "      <td>165750287.51</td>\n",
              "    </tr>\n",
              "    <tr>\n",
              "      <th>2018</th>\n",
              "      <td>13828357.00</td>\n",
              "      <td>13089254.00</td>\n",
              "      <td>14340608.00</td>\n",
              "      <td>13569054.00</td>\n",
              "      <td>13630254.00</td>\n",
              "      <td>14960658.00</td>\n",
              "      <td>15302113.00</td>\n",
              "      <td>15272543.00</td>\n",
              "      <td>15684410.00</td>\n",
              "      <td>14760025.00</td>\n",
              "      <td>15307608.00</td>\n",
              "      <td>26044924.00</td>\n",
              "      <td>185789808.00</td>\n",
              "    </tr>\n",
              "    <tr>\n",
              "      <th>2019</th>\n",
              "      <td>15231589.00</td>\n",
              "      <td>13929064.00</td>\n",
              "      <td>15341771.00</td>\n",
              "      <td>17473319.00</td>\n",
              "      <td>16023809.00</td>\n",
              "      <td>17947028.00</td>\n",
              "      <td>17247221.00</td>\n",
              "      <td>19369648.00</td>\n",
              "      <td>17031613.00</td>\n",
              "      <td>17816481.00</td>\n",
              "      <td>18237091.00</td>\n",
              "      <td>36453093.00</td>\n",
              "      <td>222101727.00</td>\n",
              "    </tr>\n",
              "    <tr>\n",
              "      <th>2020</th>\n",
              "      <td>22895900.00</td>\n",
              "      <td>21756272.00</td>\n",
              "      <td>24704528.00</td>\n",
              "      <td>25355323.00</td>\n",
              "      <td>26826277.00</td>\n",
              "      <td>25438875.00</td>\n",
              "      <td>25504740.00</td>\n",
              "      <td>26737660.00</td>\n",
              "      <td>25939226.00</td>\n",
              "      <td>26598269.00</td>\n",
              "      <td>20512121.00</td>\n",
              "      <td>31269655.00</td>\n",
              "      <td>303538846.00</td>\n",
              "    </tr>\n",
              "    <tr>\n",
              "      <th>2021</th>\n",
              "      <td>20942261.00</td>\n",
              "      <td>19233869.00</td>\n",
              "      <td>21420298.00</td>\n",
              "      <td>24737605.00</td>\n",
              "      <td>26744016.00</td>\n",
              "      <td>23899413.00</td>\n",
              "      <td>25624549.00</td>\n",
              "      <td>23444587.00</td>\n",
              "      <td>21155875.00</td>\n",
              "      <td>26794555.00</td>\n",
              "      <td>17828695.00</td>\n",
              "      <td>0.00</td>\n",
              "      <td>251825723.00</td>\n",
              "    </tr>\n",
              "    <tr>\n",
              "      <th>Total</th>\n",
              "      <td>83025204.21</td>\n",
              "      <td>77593937.48</td>\n",
              "      <td>85733804.33</td>\n",
              "      <td>93063001.50</td>\n",
              "      <td>93507004.55</td>\n",
              "      <td>93600801.89</td>\n",
              "      <td>95048123.87</td>\n",
              "      <td>95699699.68</td>\n",
              "      <td>95888445.00</td>\n",
              "      <td>108571904.20</td>\n",
              "      <td>98979912.21</td>\n",
              "      <td>136590643.15</td>\n",
              "      <td>1157302482.07</td>\n",
              "    </tr>\n",
              "  </tbody>\n",
              "</table></div>"
            ],
            "text/plain": [
              "ordermonth     January    February       March       April         May  \\\n",
              "orderyear                                                                \n",
              "2016              0.00        0.00        0.00        0.00        0.00   \n",
              "2017       10127097.21  9585478.48  9926599.33 11927700.50 10282648.55   \n",
              "2018       13828357.00 13089254.00 14340608.00 13569054.00 13630254.00   \n",
              "2019       15231589.00 13929064.00 15341771.00 17473319.00 16023809.00   \n",
              "2020       22895900.00 21756272.00 24704528.00 25355323.00 26826277.00   \n",
              "2021       20942261.00 19233869.00 21420298.00 24737605.00 26744016.00   \n",
              "Total      83025204.21 77593937.48 85733804.33 93063001.50 93507004.55   \n",
              "\n",
              "ordermonth        June        July      August   September      October  \\\n",
              "orderyear                                                                 \n",
              "2016              0.00        0.00        0.00        0.00   4596984.20   \n",
              "2017       11354827.89 11369500.87 10875261.68 16077321.00  18005590.00   \n",
              "2018       14960658.00 15302113.00 15272543.00 15684410.00  14760025.00   \n",
              "2019       17947028.00 17247221.00 19369648.00 17031613.00  17816481.00   \n",
              "2020       25438875.00 25504740.00 26737660.00 25939226.00  26598269.00   \n",
              "2021       23899413.00 25624549.00 23444587.00 21155875.00  26794555.00   \n",
              "Total      93600801.89 95048123.87 95699699.68 95888445.00 108571904.20   \n",
              "\n",
              "ordermonth    November     December         Total  \n",
              "orderyear                                          \n",
              "2016        8337309.21  15361797.15   28296090.56  \n",
              "2017       18757088.00  27461174.00  165750287.51  \n",
              "2018       15307608.00  26044924.00  185789808.00  \n",
              "2019       18237091.00  36453093.00  222101727.00  \n",
              "2020       20512121.00  31269655.00  303538846.00  \n",
              "2021       17828695.00         0.00  251825723.00  \n",
              "Total      98979912.21 136590643.15 1157302482.07  "
            ]
          },
          "execution_count": 116,
          "metadata": {},
          "output_type": "execute_result"
        }
      ],
      "source": [
        "yearlysales"
      ]
    },
    {
      "cell_type": "code",
      "execution_count": null,
      "metadata": {
        "id": "jw5uIpBRg8GK"
      },
      "outputs": [],
      "source": [
        "top_selling_months=bue.groupby([\"ordermonth\"]).sum().sort_values(\"Amount\",ascending=False).reset_index()\n",
        "top_selling_months.drop(['orderyear'],axis=1,inplace=True)"
      ]
    },
    {
      "cell_type": "code",
      "execution_count": null,
      "metadata": {
        "id": "RvlQjHatg8GK",
        "outputId": "df0f6cf0-19b4-48d6-86d5-5827a8ab86a8"
      },
      "outputs": [
        {
          "data": {
            "text/html": [
              "<div><div id=41093f65-513b-4fe7-889d-bd6d484d7f33 style=\"display:none; background-color:#9D6CFF; color:white; width:200px; height:30px; padding-left:5px; border-radius:4px; flex-direction:row; justify-content:space-around; align-items:center;\" onmouseover=\"this.style.backgroundColor='#BA9BF8'\" onmouseout=\"this.style.backgroundColor='#9D6CFF'\" onclick=\"window.commands?.execute('create-mitosheet-from-dataframe-output');\">See Full Dataframe in Mito</div> <script> if (window.commands?.hasCommand('create-mitosheet-from-dataframe-output')) document.getElementById('41093f65-513b-4fe7-889d-bd6d484d7f33').style.display = 'flex' </script> <table border=\"1\" class=\"dataframe\">\n",
              "  <thead>\n",
              "    <tr style=\"text-align: right;\">\n",
              "      <th></th>\n",
              "      <th>ordermonth</th>\n",
              "      <th>Orders</th>\n",
              "      <th>Quantity</th>\n",
              "      <th>Amount</th>\n",
              "      <th>orderday</th>\n",
              "    </tr>\n",
              "  </thead>\n",
              "  <tbody>\n",
              "    <tr>\n",
              "      <th>0</th>\n",
              "      <td>December</td>\n",
              "      <td>140144</td>\n",
              "      <td>366521</td>\n",
              "      <td>136590643.15</td>\n",
              "      <td>645058</td>\n",
              "    </tr>\n",
              "    <tr>\n",
              "      <th>1</th>\n",
              "      <td>October</td>\n",
              "      <td>129436</td>\n",
              "      <td>356186</td>\n",
              "      <td>108571904.20</td>\n",
              "      <td>617139</td>\n",
              "    </tr>\n",
              "    <tr>\n",
              "      <th>2</th>\n",
              "      <td>November</td>\n",
              "      <td>116538</td>\n",
              "      <td>304076</td>\n",
              "      <td>98979912.21</td>\n",
              "      <td>539823</td>\n",
              "    </tr>\n",
              "    <tr>\n",
              "      <th>3</th>\n",
              "      <td>September</td>\n",
              "      <td>122822</td>\n",
              "      <td>312473</td>\n",
              "      <td>95888445.00</td>\n",
              "      <td>572915</td>\n",
              "    </tr>\n",
              "    <tr>\n",
              "      <th>4</th>\n",
              "      <td>August</td>\n",
              "      <td>117537</td>\n",
              "      <td>299350</td>\n",
              "      <td>95699699.68</td>\n",
              "      <td>525760</td>\n",
              "    </tr>\n",
              "    <tr>\n",
              "      <th>...</th>\n",
              "      <td>...</td>\n",
              "      <td>...</td>\n",
              "      <td>...</td>\n",
              "      <td>...</td>\n",
              "      <td>...</td>\n",
              "    </tr>\n",
              "    <tr>\n",
              "      <th>7</th>\n",
              "      <td>May</td>\n",
              "      <td>115309</td>\n",
              "      <td>285183</td>\n",
              "      <td>93507004.55</td>\n",
              "      <td>535880</td>\n",
              "    </tr>\n",
              "    <tr>\n",
              "      <th>8</th>\n",
              "      <td>April</td>\n",
              "      <td>113435</td>\n",
              "      <td>277310</td>\n",
              "      <td>93063001.50</td>\n",
              "      <td>504501</td>\n",
              "    </tr>\n",
              "    <tr>\n",
              "      <th>9</th>\n",
              "      <td>March</td>\n",
              "      <td>109773</td>\n",
              "      <td>265011</td>\n",
              "      <td>85733804.33</td>\n",
              "      <td>521050</td>\n",
              "    </tr>\n",
              "    <tr>\n",
              "      <th>10</th>\n",
              "      <td>January</td>\n",
              "      <td>101069</td>\n",
              "      <td>265862</td>\n",
              "      <td>83025204.21</td>\n",
              "      <td>489421</td>\n",
              "    </tr>\n",
              "    <tr>\n",
              "      <th>11</th>\n",
              "      <td>February</td>\n",
              "      <td>97504</td>\n",
              "      <td>245216</td>\n",
              "      <td>77593937.48</td>\n",
              "      <td>423350</td>\n",
              "    </tr>\n",
              "  </tbody>\n",
              "</table></div>"
            ],
            "text/plain": [
              "   ordermonth  Orders  Quantity       Amount  orderday\n",
              "0    December  140144    366521 136590643.15    645058\n",
              "1     October  129436    356186 108571904.20    617139\n",
              "2    November  116538    304076  98979912.21    539823\n",
              "3   September  122822    312473  95888445.00    572915\n",
              "4      August  117537    299350  95699699.68    525760\n",
              "5        July  114137    293333  95048123.87    526403\n",
              "6        June  110990    294967  93600801.89    502889\n",
              "7         May  115309    285183  93507004.55    535880\n",
              "8       April  113435    277310  93063001.50    504501\n",
              "9       March  109773    265011  85733804.33    521050\n",
              "10    January  101069    265862  83025204.21    489421\n",
              "11   February   97504    245216  77593937.48    423350"
            ]
          },
          "execution_count": 118,
          "metadata": {},
          "output_type": "execute_result"
        }
      ],
      "source": [
        "top_selling_months"
      ]
    },
    {
      "cell_type": "code",
      "execution_count": null,
      "metadata": {
        "id": "fa1BUbIcg8GL",
        "outputId": "ce7c8760-6e5a-484d-b428-7ce079958f39"
      },
      "outputs": [
        {
          "data": {
            "text/plain": [
              "Text(0.5, 1.0, 'Top selling months')"
            ]
          },
          "execution_count": 162,
          "metadata": {},
          "output_type": "execute_result"
        },
        {
          "data": {
            "image/png": "[encoded data removed]",
            "text/plain": [
              "<Figure size 1080x360 with 1 Axes>"
            ]
          },
          "metadata": {},
          "output_type": "display_data"
        }
      ],
      "source": [
        "plt.figure(figsize=(15,5))\n",
        "sns.barplot(data=top_selling_months,x='ordermonth',y='Amount')\n",
        "sns.set_style('darkgrid')\n",
        "plt.xlabel('Ordermonth',size=15)\n",
        "plt.ylabel('Amount',size=15)\n",
        "plt.title('Top selling months',size=15)"
      ]
    },
    {
      "cell_type": "code",
      "execution_count": null,
      "metadata": {
        "id": "U7c5pkdyg8GL"
      },
      "outputs": [],
      "source": [
        "top_selling_days=bue.groupby([\"orderday\"]).sum().sort_values(\"Amount\",ascending=False).reset_index()\n",
        "top_selling_days.drop(['orderyear'],axis=1,inplace=True)"
      ]
    },
    {
      "cell_type": "code",
      "execution_count": null,
      "metadata": {
        "id": "JeojAfwwg8GL",
        "outputId": "5b024ed8-6067-4b33-f458-9fd8fa572339"
      },
      "outputs": [
        {
          "data": {
            "text/html": [
              "<div><div id=4ef3cb04-437e-498a-a9b9-49237473bd7a style=\"display:none; background-color:#9D6CFF; color:white; width:200px; height:30px; padding-left:5px; border-radius:4px; flex-direction:row; justify-content:space-around; align-items:center;\" onmouseover=\"this.style.backgroundColor='#BA9BF8'\" onmouseout=\"this.style.backgroundColor='#9D6CFF'\" onclick=\"window.commands?.execute('create-mitosheet-from-dataframe-output');\">See Full Dataframe in Mito</div> <script> if (window.commands?.hasCommand('create-mitosheet-from-dataframe-output')) document.getElementById('4ef3cb04-437e-498a-a9b9-49237473bd7a').style.display = 'flex' </script> <table border=\"1\" class=\"dataframe\">\n",
              "  <thead>\n",
              "    <tr style=\"text-align: right;\">\n",
              "      <th></th>\n",
              "      <th>orderday</th>\n",
              "      <th>Orders</th>\n",
              "      <th>Quantity</th>\n",
              "      <th>Amount</th>\n",
              "    </tr>\n",
              "  </thead>\n",
              "  <tbody>\n",
              "    <tr>\n",
              "      <th>0</th>\n",
              "      <td>Saturday</td>\n",
              "      <td>300091</td>\n",
              "      <td>756098</td>\n",
              "      <td>263204765.57</td>\n",
              "    </tr>\n",
              "    <tr>\n",
              "      <th>1</th>\n",
              "      <td>Friday</td>\n",
              "      <td>254760</td>\n",
              "      <td>581751</td>\n",
              "      <td>202759073.00</td>\n",
              "    </tr>\n",
              "    <tr>\n",
              "      <th>2</th>\n",
              "      <td>Sunday</td>\n",
              "      <td>207918</td>\n",
              "      <td>567608</td>\n",
              "      <td>170487577.21</td>\n",
              "    </tr>\n",
              "    <tr>\n",
              "      <th>3</th>\n",
              "      <td>Thursday</td>\n",
              "      <td>172892</td>\n",
              "      <td>482651</td>\n",
              "      <td>156108588.04</td>\n",
              "    </tr>\n",
              "    <tr>\n",
              "      <th>4</th>\n",
              "      <td>Wednesday</td>\n",
              "      <td>157047</td>\n",
              "      <td>416625</td>\n",
              "      <td>127518859.81</td>\n",
              "    </tr>\n",
              "    <tr>\n",
              "      <th>5</th>\n",
              "      <td>Tuesday</td>\n",
              "      <td>152336</td>\n",
              "      <td>390224</td>\n",
              "      <td>125311296.89</td>\n",
              "    </tr>\n",
              "    <tr>\n",
              "      <th>6</th>\n",
              "      <td>Monday</td>\n",
              "      <td>143650</td>\n",
              "      <td>370531</td>\n",
              "      <td>111912321.55</td>\n",
              "    </tr>\n",
              "  </tbody>\n",
              "</table></div>"
            ],
            "text/plain": [
              "    orderday  Orders  Quantity       Amount\n",
              "0   Saturday  300091    756098 263204765.57\n",
              "1     Friday  254760    581751 202759073.00\n",
              "2     Sunday  207918    567608 170487577.21\n",
              "3   Thursday  172892    482651 156108588.04\n",
              "4  Wednesday  157047    416625 127518859.81\n",
              "5    Tuesday  152336    390224 125311296.89\n",
              "6     Monday  143650    370531 111912321.55"
            ]
          },
          "execution_count": 150,
          "metadata": {},
          "output_type": "execute_result"
        }
      ],
      "source": [
        "top_selling_days"
      ]
    },
    {
      "cell_type": "code",
      "execution_count": null,
      "metadata": {
        "id": "K5Oi1_Ngg8GL",
        "outputId": "295be37b-17ad-4116-ed0f-3070d95be5dd"
      },
      "outputs": [
        {
          "data": {
            "text/plain": [
              "Text(0.5, 1.0, 'Top selling days')"
            ]
          },
          "execution_count": 163,
          "metadata": {},
          "output_type": "execute_result"
        },
        {
          "data": {
            "image/png": "[encoded data removed]",
            "text/plain": [
              "<Figure size 1080x360 with 1 Axes>"
            ]
          },
          "metadata": {},
          "output_type": "display_data"
        }
      ],
      "source": [
        "plt.figure(figsize=(15,5))\n",
        "sns.barplot(data=top_selling_days,x='orderday',y='Amount')\n",
        "sns.set_style('darkgrid')\n",
        "plt.xlabel('Orderday',size=15)\n",
        "plt.ylabel('Amount',size=15)\n",
        "plt.title('Top selling days',size=15)"
      ]
    },
    {
      "cell_type": "markdown",
      "metadata": {
        "id": "UEY2YW6HPyG3"
      },
      "source": [
        "## Summary\n",
        "From the analysis and Pivot table above, it is observed that December is the month with the highest sales followed by October and November while February is the month with the lowest sales followed by January and March. the most selling days are Saturday, Friday and Sunday while the least selling days are Monday, Tuesday and Wednesday"
      ]
    },
    {
      "cell_type": "code",
      "execution_count": null,
      "metadata": {
        "id": "K7Zs4WFvPyG6"
      },
      "outputs": [],
      "source": [
        "top_yearly_sales=bue.groupby([\"orderyear\"]).sum().sort_values(\"Amount\",ascending=False).reset_index()"
      ]
    },
    {
      "cell_type": "code",
      "execution_count": null,
      "metadata": {
        "colab": {
          "base_uri": "https://localhost:8080/",
          "height": 237
        },
        "id": "PfZnUOEcPyG7",
        "outputId": "77d1782d-c69d-4518-c97e-2f5b9afbec8e"
      },
      "outputs": [
        {
          "data": {
            "text/html": [
              "<div><div id=5ee94e05-1b30-4235-b01a-671058df4b29 style=\"display:none; background-color:#9D6CFF; color:white; width:200px; height:30px; padding-left:5px; border-radius:4px; flex-direction:row; justify-content:space-around; align-items:center;\" onmouseover=\"this.style.backgroundColor='#BA9BF8'\" onmouseout=\"this.style.backgroundColor='#9D6CFF'\" onclick=\"window.commands?.execute('create-mitosheet-from-dataframe-output');\">See Full Dataframe in Mito</div> <script> if (window.commands?.hasCommand('create-mitosheet-from-dataframe-output')) document.getElementById('5ee94e05-1b30-4235-b01a-671058df4b29').style.display = 'flex' </script> <table border=\"1\" class=\"dataframe\">\n",
              "  <thead>\n",
              "    <tr style=\"text-align: right;\">\n",
              "      <th></th>\n",
              "      <th>orderyear</th>\n",
              "      <th>Orders</th>\n",
              "      <th>Quantity</th>\n",
              "      <th>Amount</th>\n",
              "      <th>orderday</th>\n",
              "    </tr>\n",
              "  </thead>\n",
              "  <tbody>\n",
              "    <tr>\n",
              "      <th>0</th>\n",
              "      <td>2020</td>\n",
              "      <td>365469</td>\n",
              "      <td>1008347</td>\n",
              "      <td>303538846.00</td>\n",
              "      <td>1547969</td>\n",
              "    </tr>\n",
              "    <tr>\n",
              "      <th>1</th>\n",
              "      <td>2021</td>\n",
              "      <td>287633</td>\n",
              "      <td>839630</td>\n",
              "      <td>251825723.00</td>\n",
              "      <td>1285106</td>\n",
              "    </tr>\n",
              "    <tr>\n",
              "      <th>2</th>\n",
              "      <td>2019</td>\n",
              "      <td>316555</td>\n",
              "      <td>613561</td>\n",
              "      <td>222101727.00</td>\n",
              "      <td>1492047</td>\n",
              "    </tr>\n",
              "    <tr>\n",
              "      <th>3</th>\n",
              "      <td>2018</td>\n",
              "      <td>303033</td>\n",
              "      <td>494288</td>\n",
              "      <td>185789808.00</td>\n",
              "      <td>1375387</td>\n",
              "    </tr>\n",
              "    <tr>\n",
              "      <th>4</th>\n",
              "      <td>2017</td>\n",
              "      <td>113867</td>\n",
              "      <td>519195</td>\n",
              "      <td>165750287.51</td>\n",
              "      <td>701565</td>\n",
              "    </tr>\n",
              "    <tr>\n",
              "      <th>5</th>\n",
              "      <td>2016</td>\n",
              "      <td>2137</td>\n",
              "      <td>90467</td>\n",
              "      <td>28296090.56</td>\n",
              "      <td>2115</td>\n",
              "    </tr>\n",
              "  </tbody>\n",
              "</table></div>"
            ],
            "text/plain": [
              "   orderyear  Orders  Quantity       Amount  orderday\n",
              "0       2020  365469   1008347 303538846.00   1547969\n",
              "1       2021  287633    839630 251825723.00   1285106\n",
              "2       2019  316555    613561 222101727.00   1492047\n",
              "3       2018  303033    494288 185789808.00   1375387\n",
              "4       2017  113867    519195 165750287.51    701565\n",
              "5       2016    2137     90467  28296090.56      2115"
            ]
          },
          "execution_count": 120,
          "metadata": {},
          "output_type": "execute_result"
        }
      ],
      "source": [
        "top_yearly_sales"
      ]
    },
    {
      "cell_type": "code",
      "execution_count": null,
      "metadata": {
        "colab": {
          "base_uri": "https://localhost:8080/",
          "height": 374
        },
        "id": "7dvS7k82PyG7",
        "outputId": "0b44c0ec-f541-4d63-8dd5-8146686c6e81"
      },
      "outputs": [
        {
          "data": {
            "text/plain": [
              "Text(0.5, 1.0, 'Total sales per year')"
            ]
          },
          "execution_count": 122,
          "metadata": {},
          "output_type": "execute_result"
        },
        {
          "data": {
            "image/png": "[encoded data removed]",
            "text/plain": [
              "<Figure size 1080x360 with 1 Axes>"
            ]
          },
          "metadata": {
            "needs_background": "light"
          },
          "output_type": "display_data"
        }
      ],
      "source": [
        "plt.figure(figsize=(15,5))\n",
        "sns.barplot(data=top_yearly_sales,x='orderyear',y='Amount')\n",
        "sns.set_style('darkgrid')\n",
        "plt.xlabel('Orderyear',size=15)\n",
        "plt.ylabel('Amount',size=15)\n",
        "plt.title('Total sales per year',size=15)"
      ]
    },
    {
      "cell_type": "code",
      "execution_count": null,
      "metadata": {
        "id": "nWXZRK7GPyG9"
      },
      "outputs": [],
      "source": [
        "twenty16=bue[bue['orderyear']==2016].reset_index()\n",
        "twenty17=bue[bue['orderyear']==2017].reset_index()\n",
        "twenty18=bue[bue['orderyear']==2018].reset_index()\n",
        "twenty19=bue[bue['orderyear']==2019].reset_index()\n",
        "twenty20=bue[bue['orderyear']==2020].reset_index()\n",
        "twenty21=bue[bue['orderyear']==2021].reset_index()"
      ]
    },
    {
      "cell_type": "code",
      "execution_count": null,
      "metadata": {
        "id": "kmGO8DvpPyG9"
      },
      "outputs": [],
      "source": [
        "twenty16.drop(['index'],axis=1,inplace=True)"
      ]
    },
    {
      "cell_type": "code",
      "execution_count": null,
      "metadata": {
        "colab": {
          "base_uri": "https://localhost:8080/",
          "height": 206
        },
        "id": "iJtjasimPyG-",
        "outputId": "53e26a6e-99d9-424d-ed39-ab899fbad83c"
      },
      "outputs": [
        {
          "data": {
            "text/html": [
              "<div><div id=e8d3324c-994e-4e43-b07f-fd83be42f520 style=\"display:none; background-color:#9D6CFF; color:white; width:200px; height:30px; padding-left:5px; border-radius:4px; flex-direction:row; justify-content:space-around; align-items:center;\" onmouseover=\"this.style.backgroundColor='#BA9BF8'\" onmouseout=\"this.style.backgroundColor='#9D6CFF'\" onclick=\"window.commands?.execute('create-mitosheet-from-dataframe-output');\">See Full Dataframe in Mito</div> <script> if (window.commands?.hasCommand('create-mitosheet-from-dataframe-output')) document.getElementById('e8d3324c-994e-4e43-b07f-fd83be42f520').style.display = 'flex' </script> <table border=\"1\" class=\"dataframe\">\n",
              "  <thead>\n",
              "    <tr style=\"text-align: right;\">\n",
              "      <th></th>\n",
              "      <th>OrderDate</th>\n",
              "      <th>productDescription</th>\n",
              "      <th>Orders</th>\n",
              "      <th>Quantity</th>\n",
              "      <th>Amount</th>\n",
              "      <th>orderday</th>\n",
              "      <th>ordermonth</th>\n",
              "      <th>orderyear</th>\n",
              "    </tr>\n",
              "  </thead>\n",
              "  <tbody>\n",
              "    <tr>\n",
              "      <th>0</th>\n",
              "      <td>2016-10-01</td>\n",
              "      <td>28 BLACK ACAI CLASSIC</td>\n",
              "      <td>1</td>\n",
              "      <td>2</td>\n",
              "      <td>275.86</td>\n",
              "      <td>Saturday</td>\n",
              "      <td>October</td>\n",
              "      <td>2016</td>\n",
              "    </tr>\n",
              "    <tr>\n",
              "      <th>1</th>\n",
              "      <td>2016-12-01</td>\n",
              "      <td>28 BLACK ACAI CLASSIC</td>\n",
              "      <td>1</td>\n",
              "      <td>20</td>\n",
              "      <td>2758.60</td>\n",
              "      <td>Thursday</td>\n",
              "      <td>December</td>\n",
              "      <td>2016</td>\n",
              "    </tr>\n",
              "    <tr>\n",
              "      <th>2</th>\n",
              "      <td>2016-12-01</td>\n",
              "      <td>360 DOUBLE CHOCOLATE VODKA 750ML</td>\n",
              "      <td>1</td>\n",
              "      <td>1</td>\n",
              "      <td>1206.90</td>\n",
              "      <td>Thursday</td>\n",
              "      <td>December</td>\n",
              "      <td>2016</td>\n",
              "    </tr>\n",
              "    <tr>\n",
              "      <th>3</th>\n",
              "      <td>2016-12-01</td>\n",
              "      <td>360 MANDARIN ORANGE FLAVOUR VODKA 750ML</td>\n",
              "      <td>1</td>\n",
              "      <td>1</td>\n",
              "      <td>1206.90</td>\n",
              "      <td>Thursday</td>\n",
              "      <td>December</td>\n",
              "      <td>2016</td>\n",
              "    </tr>\n",
              "    <tr>\n",
              "      <th>4</th>\n",
              "      <td>2016-11-01</td>\n",
              "      <td>28 BLACK ACAI CLASSIC</td>\n",
              "      <td>1</td>\n",
              "      <td>29</td>\n",
              "      <td>3999.97</td>\n",
              "      <td>Tuesday</td>\n",
              "      <td>November</td>\n",
              "      <td>2016</td>\n",
              "    </tr>\n",
              "  </tbody>\n",
              "</table></div>"
            ],
            "text/plain": [
              "   OrderDate                       productDescription  Orders  Quantity  \\\n",
              "0 2016-10-01                    28 BLACK ACAI CLASSIC       1         2   \n",
              "1 2016-12-01                    28 BLACK ACAI CLASSIC       1        20   \n",
              "2 2016-12-01         360 DOUBLE CHOCOLATE VODKA 750ML       1         1   \n",
              "3 2016-12-01  360 MANDARIN ORANGE FLAVOUR VODKA 750ML       1         1   \n",
              "4 2016-11-01                    28 BLACK ACAI CLASSIC       1        29   \n",
              "\n",
              "   Amount  orderday ordermonth  orderyear  \n",
              "0  275.86  Saturday    October       2016  \n",
              "1 2758.60  Thursday   December       2016  \n",
              "2 1206.90  Thursday   December       2016  \n",
              "3 1206.90  Thursday   December       2016  \n",
              "4 3999.97   Tuesday   November       2016  "
            ]
          },
          "execution_count": 171,
          "metadata": {},
          "output_type": "execute_result"
        }
      ],
      "source": [
        "twenty16.head()"
      ]
    },
    {
      "cell_type": "code",
      "execution_count": null,
      "metadata": {
        "id": "TKG-ZvmSPyG_"
      },
      "outputs": [],
      "source": [
        "twenty16[\"ordermonth\"] = twenty16[\"ordermonth\"].astype('category').cat.remove_categories(['January', 'February', 'March',\n",
        "                                                                         'April','May','June','July','August','September'])"
      ]
    },
    {
      "cell_type": "code",
      "execution_count": null,
      "metadata": {
        "colab": {
          "base_uri": "https://localhost:8080/",
          "height": 374
        },
        "id": "3f7mL1q-PyHA",
        "outputId": "84f84462-ebee-49d3-b2e6-6c3bf28e9606"
      },
      "outputs": [
        {
          "data": {
            "text/plain": [
              "Text(0, 0.5, 'Amount')"
            ]
          },
          "execution_count": 128,
          "metadata": {},
          "output_type": "execute_result"
        },
        {
          "data": {
            "image/png": "[encoded data removed]",
            "text/plain": [
              "<Figure size 1080x360 with 1 Axes>"
            ]
          },
          "metadata": {},
          "output_type": "display_data"
        }
      ],
      "source": [
        "plt.figure(figsize=(15,5))\n",
        "sns.barplot(data=twenty16,x='ordermonth',y='Amount')\n",
        "sns.set_style('darkgrid')\n",
        "plt.title('2016 sales per Month',size=15)\n",
        "plt.xlabel('Orderyear',size=15)\n",
        "plt.ylabel('Amount',size=15)"
      ]
    },
    {
      "cell_type": "code",
      "execution_count": null,
      "metadata": {
        "id": "Iif3EDMiPyHB"
      },
      "outputs": [],
      "source": [
        "twenty17[\"ordermonth\"] = twenty17[\"ordermonth\"].astype('category').cat.reorder_categories(['January', 'February', 'March', 'April', 'May', 'June', 'July',\n",
        "       'August', 'September', 'October', 'November', 'December'])\n",
        "twenty18[\"ordermonth\"] = twenty18[\"ordermonth\"].astype('category').cat.reorder_categories(['January', 'February', 'March', 'April', 'May', 'June', 'July',\n",
        "       'August', 'September', 'October', 'November', 'December'])\n",
        "twenty19[\"ordermonth\"] = twenty19[\"ordermonth\"].astype('category').cat.reorder_categories(['January', 'February', 'March', 'April', 'May', 'June', 'July',\n",
        "       'August', 'September', 'October', 'November', 'December'])\n",
        "twenty20[\"ordermonth\"] = twenty20[\"ordermonth\"].astype('category').cat.reorder_categories(['January', 'February', 'March', 'April', 'May', 'June', 'July',\n",
        "       'August', 'September', 'October', 'November', 'December'])\n",
        "twenty21[\"ordermonth\"] = twenty21[\"ordermonth\"].astype('category').cat.remove_categories('December')"
      ]
    },
    {
      "cell_type": "code",
      "execution_count": null,
      "metadata": {
        "colab": {
          "base_uri": "https://localhost:8080/",
          "height": 374
        },
        "id": "i0EmwhcUPyHB",
        "outputId": "fb3a8231-e032-4191-9ac2-6c863aae3829"
      },
      "outputs": [
        {
          "data": {
            "text/plain": [
              "Text(0, 0.5, 'Amount')"
            ]
          },
          "execution_count": 130,
          "metadata": {},
          "output_type": "execute_result"
        },
        {
          "data": {
            "image/png": "[encoded data removed]",
            "text/plain": [
              "<Figure size 1080x360 with 1 Axes>"
            ]
          },
          "metadata": {},
          "output_type": "display_data"
        }
      ],
      "source": [
        "plt.figure(figsize=(15,5))\n",
        "sns.barplot(data=twenty17,x='ordermonth',y='Amount')\n",
        "sns.set_style('darkgrid')\n",
        "plt.title('2017 sales per Month',size=15)\n",
        "plt.xlabel('Orderyear',size=15)\n",
        "plt.ylabel('Amount',size=15)"
      ]
    },
    {
      "cell_type": "code",
      "execution_count": null,
      "metadata": {
        "colab": {
          "base_uri": "https://localhost:8080/",
          "height": 374
        },
        "id": "e0nQtf68PyHB",
        "outputId": "9993ba74-2aa2-43e2-acb9-e92f41953b8e"
      },
      "outputs": [
        {
          "data": {
            "text/plain": [
              "Text(0, 0.5, 'Amount')"
            ]
          },
          "execution_count": 131,
          "metadata": {},
          "output_type": "execute_result"
        },
        {
          "data": {
            "image/png": "[encoded data removed]",
            "text/plain": [
              "<Figure size 1080x360 with 1 Axes>"
            ]
          },
          "metadata": {},
          "output_type": "display_data"
        }
      ],
      "source": [
        "plt.figure(figsize=(15,5))\n",
        "sns.barplot(data=twenty18,x='ordermonth',y='Amount')\n",
        "sns.set_style('darkgrid')\n",
        "plt.title('2018 sales per Month',size=15)\n",
        "plt.xlabel('Orderyear',size=15)\n",
        "plt.ylabel('Amount',size=15)"
      ]
    },
    {
      "cell_type": "code",
      "execution_count": null,
      "metadata": {
        "colab": {
          "base_uri": "https://localhost:8080/",
          "height": 374
        },
        "id": "RhdyExNjPyHC",
        "outputId": "f7e70d1f-46c9-4cf0-f0fd-fc5fb3fa5871"
      },
      "outputs": [
        {
          "data": {
            "text/plain": [
              "Text(0, 0.5, 'Amount')"
            ]
          },
          "execution_count": 132,
          "metadata": {},
          "output_type": "execute_result"
        },
        {
          "data": {
            "image/png": "[encoded data removed]",
            "text/plain": [
              "<Figure size 1080x360 with 1 Axes>"
            ]
          },
          "metadata": {},
          "output_type": "display_data"
        }
      ],
      "source": [
        "plt.figure(figsize=(15,5))\n",
        "sns.barplot(data=twenty19,x='ordermonth',y='Amount')\n",
        "sns.set_style('darkgrid')\n",
        "plt.title('2019 sales per Month',size=15)\n",
        "plt.xlabel('Orderyear',size=15)\n",
        "plt.ylabel('Amount',size=15)"
      ]
    },
    {
      "cell_type": "code",
      "execution_count": null,
      "metadata": {
        "colab": {
          "base_uri": "https://localhost:8080/",
          "height": 374
        },
        "id": "FuaKXUq7PyHC",
        "outputId": "fd6b85b6-fdf8-4eab-eb1a-5024ec48329f"
      },
      "outputs": [
        {
          "data": {
            "text/plain": [
              "Text(0, 0.5, 'Amount')"
            ]
          },
          "execution_count": 133,
          "metadata": {},
          "output_type": "execute_result"
        },
        {
          "data": {
            "image/png": "[encoded data removed]",
            "text/plain": [
              "<Figure size 1080x360 with 1 Axes>"
            ]
          },
          "metadata": {},
          "output_type": "display_data"
        }
      ],
      "source": [
        "plt.figure(figsize=(15,5))\n",
        "sns.barplot(data=twenty20,x='ordermonth',y='Amount')\n",
        "sns.set_style('darkgrid')\n",
        "plt.title('2020 sales per Month',size=15)\n",
        "plt.xlabel('Orderyear',size=15)\n",
        "plt.ylabel('Amount',size=15)"
      ]
    },
    {
      "cell_type": "code",
      "execution_count": null,
      "metadata": {
        "colab": {
          "base_uri": "https://localhost:8080/",
          "height": 374
        },
        "id": "YNAAM_4BPyHC",
        "outputId": "8833bbe8-5a58-4c3e-dcf8-67b839456ce5"
      },
      "outputs": [
        {
          "data": {
            "text/plain": [
              "Text(0, 0.5, 'Amount')"
            ]
          },
          "execution_count": 134,
          "metadata": {},
          "output_type": "execute_result"
        },
        {
          "data": {
            "image/png": "[encoded data removed]",
            "text/plain": [
              "<Figure size 1080x360 with 1 Axes>"
            ]
          },
          "metadata": {},
          "output_type": "display_data"
        }
      ],
      "source": [
        "plt.figure(figsize=(15,5))\n",
        "sns.barplot(data=twenty21,x='ordermonth',y='Amount')\n",
        "sns.set_style('darkgrid')\n",
        "plt.title('2021 sales per Month',size=15)\n",
        "plt.xlabel('Orderyear',size=15)\n",
        "plt.ylabel('Amount',size=15)"
      ]
    }
  ],
  "metadata": {
    "colab": {
      "provenance": []
    },
    "kernelspec": {
      "display_name": "Python 3 (ipykernel)",
      "language": "python",
      "name": "python3"
    },
    "language_info": {
      "codemirror_mode": {
        "name": "ipython",
        "version": 3
      },
      "file_extension": ".py",
      "mimetype": "text/x-python",
      "name": "python",
      "nbconvert_exporter": "python",
      "pygments_lexer": "ipython3",
      "version": "3.9.7"
    }
  },
  "nbformat": 4,
  "nbformat_minor": 0
}